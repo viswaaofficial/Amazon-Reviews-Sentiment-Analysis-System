{
 "cells": [
  {
   "cell_type": "markdown",
   "id": "b10b6cb0",
   "metadata": {},
   "source": [
    "<center> <h1> AMAZON REVIEWS - SENTIMENT ANALYSIS </h2> </center>"
   ]
  },
  {
   "cell_type": "markdown",
   "id": "73682dbf",
   "metadata": {},
   "source": [
    "Data Set Link : https://www.kaggle.com/datasets/bittlingmayer/amazonreviews"
   ]
  },
  {
   "cell_type": "code",
   "execution_count": 2,
   "id": "b9d37a6c",
   "metadata": {},
   "outputs": [],
   "source": [
    "import numpy as np\n",
    "import pandas as pd\n",
    "from sklearn.metrics import f1_score , roc_auc_score, accuracy_score\n",
    "import matplotlib.pyplot as plt\n",
    "import re\n",
    "import bz2"
   ]
  },
  {
   "cell_type": "markdown",
   "id": "a7a0a0cc",
   "metadata": {},
   "source": [
    "Dataset is in the format first is label and next is text"
   ]
  },
  {
   "cell_type": "markdown",
   "id": "4f8b27ce",
   "metadata": {},
   "source": [
    "<b> EXAMPLE DATA </b>\n",
    "\n",
    "__label__2 Great CD: My lovely Pat has one of the GREAT voices of her generation. I have listened to this CD for YEARS and I still LOVE IT. When I'm in a good mood it makes me feel better. A bad mood just evaporates like sugar in the rain. This CD just oozes LIFE. Vocals are jusat STUUNNING and lyrics just kill. One of life's hidden gems. This is a desert isle CD in my book. Why she never made it big is just beyond me. Everytime I play this, no matter black, white, young, old, male, female EVERYBODY says one thing \"Who was that singing ?\"\n",
    "\n",
    "Here label number is at 9th position and also here the format is label has values from 1 and 2 so by subtracting them by 1 we make it as 0 and 1 and then from 10th index the review begins"
   ]
  },
  {
   "cell_type": "code",
   "execution_count": 3,
   "id": "1fc16eb4",
   "metadata": {},
   "outputs": [],
   "source": [
    "def getlabelandtext(file):\n",
    "    labels = []\n",
    "    texts = []\n",
    "    for line in bz2.BZ2File(file):\n",
    "        # let's decode line by line\n",
    "        x = line.decode(\"utf-8\")\n",
    "        labels.append(int(x[9]) - 1)\n",
    "        texts.append(x[10:].strip())\n",
    "    return np.array(labels), texts\n",
    "train_labels, train_texts = getlabelandtext(\"C:\\\\Users\\\\viswa\\\\Data Science and ML\\\\Datasets\\\\Amazon Reviews Dataset\\\\train.ft.txt.bz2\")\n",
    "test_labels, test_texts = getlabelandtext(\"C:\\\\Users\\\\viswa\\Data Science and ML\\\\Datasets\\\\Amazon Reviews Dataset\\\\test.ft.txt.bz2\")"
   ]
  },
  {
   "cell_type": "code",
   "execution_count": 4,
   "id": "d19fcd5c",
   "metadata": {},
   "outputs": [
    {
     "data": {
      "text/plain": [
       "1"
      ]
     },
     "execution_count": 4,
     "metadata": {},
     "output_type": "execute_result"
    }
   ],
   "source": [
    "train_labels[0]"
   ]
  },
  {
   "cell_type": "code",
   "execution_count": 5,
   "id": "da5ae4ff",
   "metadata": {},
   "outputs": [
    {
     "data": {
      "text/plain": [
       "'Stuning even for the non-gamer: This sound track was beautiful! It paints the senery in your mind so well I would recomend it even to people who hate vid. game music! I have played the game Chrono Cross but out of all of the games I have ever played it has the best music! It backs away from crude keyboarding and takes a fresher step with grate guitars and soulful orchestras. It would impress anyone who cares to listen! ^_^'"
      ]
     },
     "execution_count": 5,
     "metadata": {},
     "output_type": "execute_result"
    }
   ],
   "source": [
    "train_texts[0]"
   ]
  },
  {
   "cell_type": "code",
   "execution_count": 6,
   "id": "79e519ab",
   "metadata": {},
   "outputs": [],
   "source": [
    "train_labels=train_labels[0:500]\n",
    "train_texts=train_texts[0:500]"
   ]
  },
  {
   "cell_type": "code",
   "execution_count": 7,
   "id": "cc8d39f5",
   "metadata": {},
   "outputs": [],
   "source": [
    "#text pre-processing\n",
    "import re\n",
    "NON_ALPHANUM = re.compile(r'[\\W]')\n",
    "NON_ASCII = re.compile(r'[^a-z0-1\\s]')\n",
    "def normalize(texts):\n",
    "    normalized_texts = []\n",
    "    for text in texts:\n",
    "        lower = text.lower()\n",
    "        no_punctuation = NON_ALPHANUM.sub(r' ', lower)\n",
    "        no_non_ascii = NON_ASCII.sub(r'', no_punctuation)\n",
    "        normalized_texts.append(no_non_ascii)\n",
    "    return normalized_texts "
   ]
  },
  {
   "cell_type": "code",
   "execution_count": 8,
   "id": "a2b68233",
   "metadata": {},
   "outputs": [],
   "source": [
    "train_texts = normalize(train_texts)\n",
    "test_texts = normalize(test_texts)"
   ]
  },
  {
   "cell_type": "code",
   "execution_count": 9,
   "id": "a1d8f809",
   "metadata": {},
   "outputs": [
    {
     "data": {
      "text/plain": [
       "'stuning even for the non gamer  this sound track was beautiful  it paints the senery in your mind so well i would recomend it even to people who hate vid  game music  i have played the game chrono cross but out of all of the games i have ever played it has the best music  it backs away from crude keyboarding and takes a fresher step with grate guitars and soulful orchestras  it would impress anyone who cares to listen    '"
      ]
     },
     "execution_count": 9,
     "metadata": {},
     "output_type": "execute_result"
    }
   ],
   "source": [
    "train_texts[0]"
   ]
  },
  {
   "cell_type": "markdown",
   "id": "be0524d1",
   "metadata": {},
   "source": [
    "<hr/><b>We need to convert this text into numerical format using count vector</b>"
   ]
  },
  {
   "cell_type": "code",
   "execution_count": 10,
   "id": "ba7139f5",
   "metadata": {},
   "outputs": [],
   "source": [
    "from sklearn.feature_extraction.text import CountVectorizer\n",
    "\n",
    "cv = CountVectorizer(binary=True)\n",
    "cv.fit(train_texts)\n",
    "#we don't fit test set as they are already in numerical format and there is no much deviations in the data\n",
    "X = cv.transform(train_texts)\n",
    "X_test = cv.transform(test_texts)"
   ]
  },
  {
   "cell_type": "code",
   "execution_count": 11,
   "id": "436e762d",
   "metadata": {},
   "outputs": [
    {
     "data": {
      "text/plain": [
       "<400000x5778 sparse matrix of type '<class 'numpy.int64'>'\n",
       "\twith 18647020 stored elements in Compressed Sparse Row format>"
      ]
     },
     "execution_count": 11,
     "metadata": {},
     "output_type": "execute_result"
    }
   ],
   "source": [
    "X_test"
   ]
  },
  {
   "cell_type": "code",
   "execution_count": 12,
   "id": "85d5f13d",
   "metadata": {},
   "outputs": [
    {
     "name": "stdout",
     "output_type": "stream",
     "text": [
      "  (0, 213)\t1\n",
      "  (0, 282)\t1\n",
      "  (0, 398)\t1\n",
      "  (0, 503)\t1\n",
      "  (0, 506)\t1\n",
      "  (0, 511)\t1\n",
      "  (0, 525)\t1\n",
      "  (0, 561)\t1\n",
      "  (0, 761)\t1\n",
      "  (0, 1305)\t1\n",
      "  (0, 1698)\t1\n",
      "  (0, 1701)\t1\n",
      "  (0, 1857)\t1\n",
      "  (0, 1864)\t1\n",
      "  (0, 1973)\t1\n",
      "  (0, 2090)\t1\n",
      "  (0, 2156)\t1\n",
      "  (0, 2193)\t1\n",
      "  (0, 2279)\t1\n",
      "  (0, 2288)\t1\n",
      "  (0, 2331)\t1\n",
      "  (0, 2525)\t1\n",
      "  (0, 2678)\t1\n",
      "  (0, 2681)\t1\n",
      "  (0, 2689)\t1\n",
      "  :\t:\n",
      "  (399999, 3817)\t1\n",
      "  (399999, 3987)\t1\n",
      "  (399999, 4059)\t1\n",
      "  (399999, 4194)\t1\n",
      "  (399999, 4363)\t1\n",
      "  (399999, 4413)\t1\n",
      "  (399999, 4667)\t1\n",
      "  (399999, 4773)\t1\n",
      "  (399999, 4888)\t1\n",
      "  (399999, 5087)\t1\n",
      "  (399999, 5090)\t1\n",
      "  (399999, 5094)\t1\n",
      "  (399999, 5100)\t1\n",
      "  (399999, 5104)\t1\n",
      "  (399999, 5107)\t1\n",
      "  (399999, 5125)\t1\n",
      "  (399999, 5186)\t1\n",
      "  (399999, 5191)\t1\n",
      "  (399999, 5455)\t1\n",
      "  (399999, 5540)\t1\n",
      "  (399999, 5609)\t1\n",
      "  (399999, 5610)\t1\n",
      "  (399999, 5620)\t1\n",
      "  (399999, 5649)\t1\n",
      "  (399999, 5759)\t1\n"
     ]
    }
   ],
   "source": [
    "print(X_test)"
   ]
  },
  {
   "cell_type": "code",
   "execution_count": 13,
   "id": "109bc72a",
   "metadata": {},
   "outputs": [],
   "source": [
    "from sklearn.linear_model import LogisticRegression\n",
    "from sklearn.metrics import accuracy_score\n",
    "from sklearn.model_selection import train_test_split"
   ]
  },
  {
   "cell_type": "code",
   "execution_count": 14,
   "id": "cfd0c4bc",
   "metadata": {},
   "outputs": [
    {
     "name": "stdout",
     "output_type": "stream",
     "text": [
      "Accuracy for C=0.01: 0.738915\n",
      "Accuracy for C=0.05: 0.753645\n",
      "Accuracy for C=0.25: 0.7520925\n",
      "Accuracy for C=0.5: 0.7495375\n",
      "Accuracy for C=1: 0.7469675\n"
     ]
    }
   ],
   "source": [
    "from sklearn.linear_model import LogisticRegression\n",
    "from sklearn.metrics import accuracy_score\n",
    "from sklearn.model_selection import train_test_split\n",
    "\n",
    "\n",
    "# X_train, X_val, y_train, y_val = train_test_split(\n",
    "#     X, train_labels, train_size = 0.75\n",
    "# )\n",
    "# this is done when we are provided with test data separately\n",
    "\n",
    "for c in [0.01, 0.05, 0.25, 0.5, 1]:\n",
    "    \n",
    "    lr = LogisticRegression(C=c)\n",
    "    lr.fit(X, train_labels)\n",
    "    print (\"Accuracy for C=%s: %s\" \n",
    "           % (c, accuracy_score(test_labels, lr.predict(X_test))))"
   ]
  },
  {
   "cell_type": "markdown",
   "id": "1876e8ce",
   "metadata": {},
   "source": [
    "We can see that at c=0.05 we have high accuracy with the use of c we can regularize the data and prevent it from overfitting"
   ]
  },
  {
   "cell_type": "markdown",
   "id": "95f4dca3",
   "metadata": {},
   "source": [
    "<b>Correct Prediction</b>"
   ]
  },
  {
   "cell_type": "code",
   "execution_count": 15,
   "id": "65371251",
   "metadata": {},
   "outputs": [
    {
     "data": {
      "text/plain": [
       "array([0])"
      ]
     },
     "execution_count": 15,
     "metadata": {},
     "output_type": "execute_result"
    }
   ],
   "source": [
    "lr.predict(X_test[24])"
   ]
  },
  {
   "cell_type": "code",
   "execution_count": 16,
   "id": "35e9a2e4",
   "metadata": {},
   "outputs": [
    {
     "data": {
      "text/plain": [
       "0"
      ]
     },
     "execution_count": 16,
     "metadata": {},
     "output_type": "execute_result"
    }
   ],
   "source": [
    "test_labels[24]"
   ]
  },
  {
   "cell_type": "code",
   "execution_count": 17,
   "id": "16650796",
   "metadata": {},
   "outputs": [
    {
     "data": {
      "text/plain": [
       "'don t take the chance   get the se branded cable  if you purchase this data cable  you need to know that you will receive no real directions or information regarding what to check if nothing works  as directed  i downloaded all of the files from the se site  0mb on dial up    and then downloaded all of the user guides  everything seemed to install ok  but nothing would make my phone be recognized  after that i scoured the se site for troubleshooting info on their branded cable in the hope that something would help me figure out the problem  after  full days of beating my head against the wall  i finally threw the cable and the useless cd that came with it in the trash if i had used my brain i would have paid the extra    for a se branded cable and software  and the support that comes along with that   i now have the real deal  se data cable and software   and guess what  yep  installation was a breeze and it works beautifully  you really do get what you pay for '"
      ]
     },
     "execution_count": 17,
     "metadata": {},
     "output_type": "execute_result"
    }
   ],
   "source": [
    "test_texts[24]"
   ]
  },
  {
   "cell_type": "markdown",
   "id": "30ed4fd1",
   "metadata": {},
   "source": [
    "<b> Mixed Review Prediction </b>"
   ]
  },
  {
   "cell_type": "code",
   "execution_count": 18,
   "id": "5ad36c5a",
   "metadata": {},
   "outputs": [
    {
     "data": {
      "text/plain": [
       "array([1])"
      ]
     },
     "execution_count": 18,
     "metadata": {},
     "output_type": "execute_result"
    }
   ],
   "source": [
    "lr.predict(X_test[20])"
   ]
  },
  {
   "cell_type": "code",
   "execution_count": 19,
   "id": "7239bdda",
   "metadata": {},
   "outputs": [
    {
     "data": {
      "text/plain": [
       "0"
      ]
     },
     "execution_count": 19,
     "metadata": {},
     "output_type": "execute_result"
    }
   ],
   "source": [
    "test_labels[20]"
   ]
  },
  {
   "cell_type": "code",
   "execution_count": 20,
   "id": "126fecc5",
   "metadata": {},
   "outputs": [
    {
     "data": {
      "text/plain": [
       "'long and boring  i ve read this book with much expectation  it was very boring all through out the book'"
      ]
     },
     "execution_count": 20,
     "metadata": {},
     "output_type": "execute_result"
    }
   ],
   "source": [
    "test_texts[20]"
   ]
  },
  {
   "cell_type": "code",
   "execution_count": 31,
   "id": "0550ca0c",
   "metadata": {},
   "outputs": [],
   "source": [
    "pred=lr.predict(X_test)"
   ]
  },
  {
   "cell_type": "code",
   "execution_count": 32,
   "id": "7459a5cb",
   "metadata": {},
   "outputs": [
    {
     "data": {
      "text/plain": [
       "array([1, 1, 0, ..., 0, 1, 0])"
      ]
     },
     "execution_count": 32,
     "metadata": {},
     "output_type": "execute_result"
    }
   ],
   "source": [
    "pred"
   ]
  },
  {
   "cell_type": "code",
   "execution_count": 36,
   "id": "bc91a676",
   "metadata": {},
   "outputs": [],
   "source": [
    "x=np.arange(0,400000)"
   ]
  },
  {
   "cell_type": "code",
   "execution_count": 37,
   "id": "f1400154",
   "metadata": {},
   "outputs": [
    {
     "data": {
      "text/plain": [
       "array([     0,      1,      2, ..., 399997, 399998, 399999])"
      ]
     },
     "execution_count": 37,
     "metadata": {},
     "output_type": "execute_result"
    }
   ],
   "source": [
    "x"
   ]
  },
  {
   "cell_type": "markdown",
   "id": "d96042ea",
   "metadata": {},
   "source": [
    "<b> PLOT </b> <br/>\n",
    "The concept of label here is not to mention test value or predicted value if both are same\n",
    "Orange marker will replace blue so whereever only blue is there it means there is some wrong prediction over there"
   ]
  },
  {
   "cell_type": "code",
   "execution_count": 51,
   "id": "27ac38f0",
   "metadata": {},
   "outputs": [
    {
     "data": {
      "text/plain": [
       "<matplotlib.legend.Legend at 0x24c2367a990>"
      ]
     },
     "execution_count": 51,
     "metadata": {},
     "output_type": "execute_result"
    },
    {
     "data": {
      "image/png": "[encoded data removed]",
      "text/plain": [
       "<Figure size 640x480 with 1 Axes>"
      ]
     },
     "metadata": {},
     "output_type": "display_data"
    }
   ],
   "source": [
    "plt.scatter(x[0:50],pred[0:50],label=\"incorrect prediction\")\n",
    "plt.scatter(x[0:50],test_labels[0:50],label=\"correct prediction\")\n",
    "plt.legend()"
   ]
  },
  {
   "cell_type": "markdown",
   "id": "757ed77a",
   "metadata": {},
   "source": [
    "Here we have just used linear regression model and have predicted it but in future my plan is to create my own model which will analyse the words properly and provide you with more than two options of emotions"
   ]
  }
 ],
 "metadata": {
  "kernelspec": {
   "display_name": "Python 3 (ipykernel)",
   "language": "python",
   "name": "python3"
  },
  "language_info": {
   "codemirror_mode": {
    "name": "ipython",
    "version": 3
   },
   "file_extension": ".py",
   "mimetype": "text/x-python",
   "name": "python",
   "nbconvert_exporter": "python",
   "pygments_lexer": "ipython3",
   "version": "3.11.3"
  }
 },
 "nbformat": 4,
 "nbformat_minor": 5
}
